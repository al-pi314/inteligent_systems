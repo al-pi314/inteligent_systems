{
 "cells": [
  {
   "cell_type": "code",
   "execution_count": 53,
   "metadata": {},
   "outputs": [],
   "source": [
    "import pandas as pd\n",
    "import matplotlib.pyplot as plt\n",
    "from maze_ga import MazeGa\n",
    "from display import show_solution\n",
    "import seaborn as sns"
   ]
  },
  {
   "cell_type": "code",
   "execution_count": 2,
   "metadata": {},
   "outputs": [
    {
     "data": {
      "text/html": [
       "<div>\n",
       "<style scoped>\n",
       "    .dataframe tbody tr th:only-of-type {\n",
       "        vertical-align: middle;\n",
       "    }\n",
       "\n",
       "    .dataframe tbody tr th {\n",
       "        vertical-align: top;\n",
       "    }\n",
       "\n",
       "    .dataframe thead th {\n",
       "        text-align: right;\n",
       "    }\n",
       "</style>\n",
       "<table border=\"1\" class=\"dataframe\">\n",
       "  <thead>\n",
       "    <tr style=\"text-align: right;\">\n",
       "      <th></th>\n",
       "      <th>maze_file</th>\n",
       "      <th>generations</th>\n",
       "      <th>valid_only</th>\n",
       "      <th>population_size</th>\n",
       "      <th>parents</th>\n",
       "      <th>mutation_probability</th>\n",
       "      <th>elitism</th>\n",
       "      <th>use_custom_functions</th>\n",
       "      <th>run_id</th>\n",
       "    </tr>\n",
       "  </thead>\n",
       "  <tbody>\n",
       "    <tr>\n",
       "      <th>0</th>\n",
       "      <td>maze_1.txt</td>\n",
       "      <td>150</td>\n",
       "      <td>True</td>\n",
       "      <td>25</td>\n",
       "      <td>0.07</td>\n",
       "      <td>0.01</td>\n",
       "      <td>0.01</td>\n",
       "      <td>True</td>\n",
       "      <td>21</td>\n",
       "    </tr>\n",
       "    <tr>\n",
       "      <th>1</th>\n",
       "      <td>maze_1.txt</td>\n",
       "      <td>150</td>\n",
       "      <td>True</td>\n",
       "      <td>25</td>\n",
       "      <td>0.01</td>\n",
       "      <td>0.01</td>\n",
       "      <td>0.01</td>\n",
       "      <td>True</td>\n",
       "      <td>1</td>\n",
       "    </tr>\n",
       "    <tr>\n",
       "      <th>2</th>\n",
       "      <td>maze_1.txt</td>\n",
       "      <td>150</td>\n",
       "      <td>True</td>\n",
       "      <td>25</td>\n",
       "      <td>0.01</td>\n",
       "      <td>0.01</td>\n",
       "      <td>0.10</td>\n",
       "      <td>True</td>\n",
       "      <td>2</td>\n",
       "    </tr>\n",
       "    <tr>\n",
       "      <th>3</th>\n",
       "      <td>maze_1.txt</td>\n",
       "      <td>150</td>\n",
       "      <td>True</td>\n",
       "      <td>25</td>\n",
       "      <td>0.07</td>\n",
       "      <td>0.01</td>\n",
       "      <td>0.10</td>\n",
       "      <td>True</td>\n",
       "      <td>22</td>\n",
       "    </tr>\n",
       "    <tr>\n",
       "      <th>4</th>\n",
       "      <td>maze_1.txt</td>\n",
       "      <td>150</td>\n",
       "      <td>True</td>\n",
       "      <td>25</td>\n",
       "      <td>0.25</td>\n",
       "      <td>0.01</td>\n",
       "      <td>0.01</td>\n",
       "      <td>True</td>\n",
       "      <td>81</td>\n",
       "    </tr>\n",
       "  </tbody>\n",
       "</table>\n",
       "</div>"
      ],
      "text/plain": [
       "    maze_file  generations  valid_only  population_size  parents  \\\n",
       "0  maze_1.txt          150        True               25     0.07   \n",
       "1  maze_1.txt          150        True               25     0.01   \n",
       "2  maze_1.txt          150        True               25     0.01   \n",
       "3  maze_1.txt          150        True               25     0.07   \n",
       "4  maze_1.txt          150        True               25     0.25   \n",
       "\n",
       "   mutation_probability  elitism  use_custom_functions  run_id  \n",
       "0                  0.01     0.01                  True      21  \n",
       "1                  0.01     0.01                  True       1  \n",
       "2                  0.01     0.10                  True       2  \n",
       "3                  0.01     0.10                  True      22  \n",
       "4                  0.01     0.01                  True      81  "
      ]
     },
     "execution_count": 2,
     "metadata": {},
     "output_type": "execute_result"
    }
   ],
   "source": [
    "runs = pd.read_csv('./seminar_1/results/runs.csv', index_col=0)\n",
    "runs.head()"
   ]
  },
  {
   "cell_type": "code",
   "execution_count": 3,
   "metadata": {},
   "outputs": [
    {
     "data": {
      "text/html": [
       "<div>\n",
       "<style scoped>\n",
       "    .dataframe tbody tr th:only-of-type {\n",
       "        vertical-align: middle;\n",
       "    }\n",
       "\n",
       "    .dataframe tbody tr th {\n",
       "        vertical-align: top;\n",
       "    }\n",
       "\n",
       "    .dataframe thead th {\n",
       "        text-align: right;\n",
       "    }\n",
       "</style>\n",
       "<table border=\"1\" class=\"dataframe\">\n",
       "  <thead>\n",
       "    <tr style=\"text-align: right;\">\n",
       "      <th></th>\n",
       "      <th>run_id</th>\n",
       "      <th>generation</th>\n",
       "      <th>fitness</th>\n",
       "      <th>path</th>\n",
       "    </tr>\n",
       "  </thead>\n",
       "  <tbody>\n",
       "    <tr>\n",
       "      <th>0</th>\n",
       "      <td>21</td>\n",
       "      <td>0</td>\n",
       "      <td>79.6</td>\n",
       "      <td>1021120012303113001122023</td>\n",
       "    </tr>\n",
       "    <tr>\n",
       "      <th>1</th>\n",
       "      <td>21</td>\n",
       "      <td>1</td>\n",
       "      <td>83.8</td>\n",
       "      <td>1021120231010013301213232</td>\n",
       "    </tr>\n",
       "    <tr>\n",
       "      <th>2</th>\n",
       "      <td>21</td>\n",
       "      <td>2</td>\n",
       "      <td>83.8</td>\n",
       "      <td>1021120230332212323100310</td>\n",
       "    </tr>\n",
       "    <tr>\n",
       "      <th>3</th>\n",
       "      <td>21</td>\n",
       "      <td>3</td>\n",
       "      <td>79.6</td>\n",
       "      <td>1021120012303112001031223</td>\n",
       "    </tr>\n",
       "    <tr>\n",
       "      <th>4</th>\n",
       "      <td>21</td>\n",
       "      <td>4</td>\n",
       "      <td>87.8</td>\n",
       "      <td>1021223133230021130120201</td>\n",
       "    </tr>\n",
       "  </tbody>\n",
       "</table>\n",
       "</div>"
      ],
      "text/plain": [
       "   run_id  generation  fitness                       path\n",
       "0      21           0     79.6  1021120012303113001122023\n",
       "1      21           1     83.8  1021120231010013301213232\n",
       "2      21           2     83.8  1021120230332212323100310\n",
       "3      21           3     79.6  1021120012303112001031223\n",
       "4      21           4     87.8  1021223133230021130120201"
      ]
     },
     "execution_count": 3,
     "metadata": {},
     "output_type": "execute_result"
    }
   ],
   "source": [
    "gen_scores = pd.read_csv('./seminar_1/results/generations_scores.csv', index_col=0)\n",
    "gen_scores.head()"
   ]
  },
  {
   "cell_type": "code",
   "execution_count": 4,
   "metadata": {},
   "outputs": [
    {
     "name": "stdout",
     "output_type": "stream",
     "text": [
      "<class 'pandas.core.frame.DataFrame'>\n",
      "Int64Index: 38005 entries, 0 to 38004\n",
      "Data columns (total 9 columns):\n",
      " #   Column                Non-Null Count  Dtype  \n",
      "---  ------                --------------  -----  \n",
      " 0   maze_file             38005 non-null  object \n",
      " 1   generations           38005 non-null  int64  \n",
      " 2   valid_only            38005 non-null  bool   \n",
      " 3   population_size       38005 non-null  int64  \n",
      " 4   parents               38005 non-null  float64\n",
      " 5   mutation_probability  38005 non-null  float64\n",
      " 6   elitism               38005 non-null  float64\n",
      " 7   use_custom_functions  38005 non-null  bool   \n",
      " 8   run_id                38005 non-null  int64  \n",
      "dtypes: bool(2), float64(3), int64(3), object(1)\n",
      "memory usage: 2.4+ MB\n"
     ]
    }
   ],
   "source": [
    "runs.info()"
   ]
  },
  {
   "cell_type": "code",
   "execution_count": 5,
   "metadata": {},
   "outputs": [
    {
     "name": "stdout",
     "output_type": "stream",
     "text": [
      "<class 'pandas.core.frame.DataFrame'>\n",
      "Int64Index: 2654126 entries, 0 to 2654125\n",
      "Data columns (total 4 columns):\n",
      " #   Column      Dtype  \n",
      "---  ------      -----  \n",
      " 0   run_id      int64  \n",
      " 1   generation  int64  \n",
      " 2   fitness     float64\n",
      " 3   path        object \n",
      "dtypes: float64(1), int64(2), object(1)\n",
      "memory usage: 101.2+ MB\n"
     ]
    }
   ],
   "source": [
    "gen_scores.info()"
   ]
  },
  {
   "cell_type": "code",
   "execution_count": 6,
   "metadata": {},
   "outputs": [],
   "source": [
    "def condition(maze_file, generations, valid_only, population_size, parents, mutation_probability, elitism, use_custom_functions):\n",
    "    condition = (runs.maze_file == maze_file)\n",
    "    if generations is not None:\n",
    "        condition = condition & (runs.generations == generations)\n",
    "    if valid_only is not None:\n",
    "        condition = condition & (runs.valid_only == valid_only)\n",
    "    if population_size is not None:\n",
    "        condition = condition & (runs.population_size == population_size)\n",
    "    if parents is not None:\n",
    "        condition = condition & (runs.parents == parents)\n",
    "    if mutation_probability is not None:\n",
    "        condition = condition & (runs.mutation_probability == mutation_probability)\n",
    "    if elitism is not None:\n",
    "        condition = condition & (runs.elitism == elitism)\n",
    "    if use_custom_functions is not None:\n",
    "        condition = condition & (runs.use_custom_functions == use_custom_functions)\n",
    "    return condition\n"
   ]
  },
  {
   "cell_type": "code",
   "execution_count": 7,
   "metadata": {},
   "outputs": [
    {
     "data": {
      "text/html": [
       "<div>\n",
       "<style scoped>\n",
       "    .dataframe tbody tr th:only-of-type {\n",
       "        vertical-align: middle;\n",
       "    }\n",
       "\n",
       "    .dataframe tbody tr th {\n",
       "        vertical-align: top;\n",
       "    }\n",
       "\n",
       "    .dataframe thead th {\n",
       "        text-align: right;\n",
       "    }\n",
       "</style>\n",
       "<table border=\"1\" class=\"dataframe\">\n",
       "  <thead>\n",
       "    <tr style=\"text-align: right;\">\n",
       "      <th></th>\n",
       "      <th>maze_file</th>\n",
       "      <th>generations</th>\n",
       "      <th>valid_only</th>\n",
       "      <th>population_size</th>\n",
       "      <th>parents</th>\n",
       "      <th>mutation_probability</th>\n",
       "      <th>elitism</th>\n",
       "      <th>use_custom_functions</th>\n",
       "      <th>run_id</th>\n",
       "    </tr>\n",
       "  </thead>\n",
       "  <tbody>\n",
       "    <tr>\n",
       "      <th>16978</th>\n",
       "      <td>maze_5.txt</td>\n",
       "      <td>150</td>\n",
       "      <td>False</td>\n",
       "      <td>250</td>\n",
       "      <td>0.25</td>\n",
       "      <td>0.01</td>\n",
       "      <td>0.01</td>\n",
       "      <td>False</td>\n",
       "      <td>14973</td>\n",
       "    </tr>\n",
       "  </tbody>\n",
       "</table>\n",
       "</div>"
      ],
      "text/plain": [
       "        maze_file  generations  valid_only  population_size  parents  \\\n",
       "16978  maze_5.txt          150       False              250     0.25   \n",
       "\n",
       "       mutation_probability  elitism  use_custom_functions  run_id  \n",
       "16978                  0.01     0.01                 False   14973  "
      ]
     },
     "execution_count": 7,
     "metadata": {},
     "output_type": "execute_result"
    }
   ],
   "source": [
    "runs.loc[condition(\"maze_5.txt\", 150, False, 250, 0.25, 0.01, 0.01, False)]"
   ]
  },
  {
   "cell_type": "markdown",
   "metadata": {},
   "source": [
    "### Maze 5 Score by Generation (Basic Parameters)"
   ]
  },
  {
   "cell_type": "code",
   "execution_count": 18,
   "metadata": {},
   "outputs": [],
   "source": [
    "run_id = int(runs.loc[condition(\"maze_5.txt\", 150, False, 25, 0.25, 0.01, 0.1, False)][\"run_id\"])\n",
    "run_scores = gen_scores.loc[gen_scores.run_id == run_id]"
   ]
  },
  {
   "cell_type": "code",
   "execution_count": 19,
   "metadata": {},
   "outputs": [
    {
     "data": {
      "text/plain": [
       "Text(0, 0.5, 'Fitness')"
      ]
     },
     "execution_count": 19,
     "metadata": {},
     "output_type": "execute_result"
    },
    {
     "data": {
      "image/png": "[encoded data removed]",
      "text/plain": [
       "<Figure size 640x480 with 1 Axes>"
      ]
     },
     "metadata": {},
     "output_type": "display_data"
    }
   ],
   "source": [
    "plt.plot(run_scores.generation[:11], run_scores.fitness[:11])\n",
    "plt.xlabel(\"Generation\")\n",
    "plt.ylabel(\"Fitness\")"
   ]
  },
  {
   "cell_type": "code",
   "execution_count": 26,
   "metadata": {},
   "outputs": [],
   "source": [
    "last_solution = run_scores.loc[run_scores.generation == 150]"
   ]
  },
  {
   "cell_type": "code",
   "execution_count": 27,
   "metadata": {},
   "outputs": [],
   "source": [
    "with open(\"./seminar_1/mazes/maze_5.txt\", \"r\") as m:\n",
    "    maze_string = m.read()\n",
    "mga = MazeGa(maze_string)"
   ]
  },
  {
   "cell_type": "code",
   "execution_count": 15,
   "metadata": {},
   "outputs": [],
   "source": [
    "solution_path = mga.path_str_to_list(last_solution.path.values[0])"
   ]
  },
  {
   "cell_type": "code",
   "execution_count": 25,
   "metadata": {},
   "outputs": [
    {
     "name": "stdout",
     "output_type": "stream",
     "text": [
      "-----------------------------------\n",
      "Current score 465.4\n",
      "D D L L D D L U U D D D U U L U U R R U U L L R U R U L R U D R U U D R U U D L L U L D L R D D U L D D U U D D L L U D D R R U D U U L L R L D D D U R R R U R U R U R D R D R R L L U U R U L D D D D L L U D U R R R L U L D R D D U U L D U L L R U U U L R D U L L D D D L R U D U U L D L L D U \n",
      "###x###########\n",
      "#..xxxxxx###..#\n",
      "########x....##\n",
      "#.....##x###.##\n",
      "#.###...xx##..#\n",
      "#.....###xxx###\n",
      "####.####x#x###\n",
      "##......#xxxxx#\n",
      "#######.#x###.#\n",
      "#.....xxxx#####\n",
      "#.####xx#....##\n",
      "##.xxx#x#######\n",
      "#..##xxx......#\n",
      "##...###.##.###\n",
      "###############\n",
      "\n"
     ]
    }
   ],
   "source": [
    "show_solution(mga, solution_path, last_solution.fitness.values[0], sequential_display=False)"
   ]
  },
  {
   "cell_type": "markdown",
   "metadata": {},
   "source": [
    "### Maze 5 Score By Generation (Advanced Parameters)"
   ]
  },
  {
   "cell_type": "code",
   "execution_count": 20,
   "metadata": {},
   "outputs": [],
   "source": [
    "run_id = int(runs.loc[condition(\"maze_5.txt\", 150, True, 25, 0.25, 0.01, 0.1, True)][\"run_id\"])\n",
    "run_scores = gen_scores.loc[gen_scores.run_id == run_id]"
   ]
  },
  {
   "cell_type": "code",
   "execution_count": 24,
   "metadata": {},
   "outputs": [
    {
     "data": {
      "text/plain": [
       "Text(0, 0.5, 'Fitness')"
      ]
     },
     "execution_count": 24,
     "metadata": {},
     "output_type": "execute_result"
    },
    {
     "data": {
      "image/png": "[encoded data removed]",
      "text/plain": [
       "<Figure size 640x480 with 1 Axes>"
      ]
     },
     "metadata": {},
     "output_type": "display_data"
    }
   ],
   "source": [
    "plot_n = 100\n",
    "plt.plot(run_scores.generation[:plot_n], run_scores.fitness[:plot_n])\n",
    "plt.xlabel(\"Generation\")\n",
    "plt.ylabel(\"Fitness\")"
   ]
  },
  {
   "cell_type": "code",
   "execution_count": 28,
   "metadata": {},
   "outputs": [],
   "source": [
    "solution_path = mga.path_str_to_list(last_solution.path.values[0])"
   ]
  },
  {
   "cell_type": "code",
   "execution_count": 29,
   "metadata": {},
   "outputs": [
    {
     "name": "stdout",
     "output_type": "stream",
     "text": [
      "-----------------------------------\n",
      "Current score 864.0\n",
      "U R R U U U U U L U U U L L L L L U \n",
      "###x###########\n",
      "#..xxxxxx###..#\n",
      "########x....##\n",
      "#.....##x###.##\n",
      "#.###...xx##..#\n",
      "#.....###x..###\n",
      "####.####x#.###\n",
      "##......#x....#\n",
      "#######.#x###.#\n",
      "#......xxx#####\n",
      "#.####.S#....##\n",
      "##....#.#######\n",
      "#..##.........#\n",
      "##...###.##.###\n",
      "###############\n",
      "\n"
     ]
    }
   ],
   "source": [
    "show_solution(mga, solution_path, last_solution.fitness.values[0], sequential_display=False)"
   ]
  },
  {
   "cell_type": "markdown",
   "metadata": {},
   "source": [
    "### Parameter Dependance"
   ]
  },
  {
   "cell_type": "code",
   "execution_count": 46,
   "metadata": {},
   "outputs": [
    {
     "data": {
      "text/html": [
       "<div>\n",
       "<style scoped>\n",
       "    .dataframe tbody tr th:only-of-type {\n",
       "        vertical-align: middle;\n",
       "    }\n",
       "\n",
       "    .dataframe tbody tr th {\n",
       "        vertical-align: top;\n",
       "    }\n",
       "\n",
       "    .dataframe thead th {\n",
       "        text-align: right;\n",
       "    }\n",
       "</style>\n",
       "<table border=\"1\" class=\"dataframe\">\n",
       "  <thead>\n",
       "    <tr style=\"text-align: right;\">\n",
       "      <th></th>\n",
       "      <th>generation</th>\n",
       "      <th>fitness</th>\n",
       "      <th>path</th>\n",
       "    </tr>\n",
       "    <tr>\n",
       "      <th>run_id</th>\n",
       "      <th></th>\n",
       "      <th></th>\n",
       "      <th></th>\n",
       "    </tr>\n",
       "  </thead>\n",
       "  <tbody>\n",
       "    <tr>\n",
       "      <th>0</th>\n",
       "      <td>150</td>\n",
       "      <td>92.0</td>\n",
       "      <td>2312223130123323201001101</td>\n",
       "    </tr>\n",
       "    <tr>\n",
       "      <th>1</th>\n",
       "      <td>150</td>\n",
       "      <td>92.0</td>\n",
       "      <td>2323122232323231332021323</td>\n",
       "    </tr>\n",
       "    <tr>\n",
       "      <th>2</th>\n",
       "      <td>150</td>\n",
       "      <td>92.0</td>\n",
       "      <td>2323221230310310231021123</td>\n",
       "    </tr>\n",
       "    <tr>\n",
       "      <th>3</th>\n",
       "      <td>150</td>\n",
       "      <td>92.0</td>\n",
       "      <td>2312312202313232023031233</td>\n",
       "    </tr>\n",
       "    <tr>\n",
       "      <th>4</th>\n",
       "      <td>150</td>\n",
       "      <td>92.0</td>\n",
       "      <td>2322123130123010301230112</td>\n",
       "    </tr>\n",
       "    <tr>\n",
       "      <th>...</th>\n",
       "      <td>...</td>\n",
       "      <td>...</td>\n",
       "      <td>...</td>\n",
       "    </tr>\n",
       "    <tr>\n",
       "      <th>15567</th>\n",
       "      <td>150</td>\n",
       "      <td>949.4</td>\n",
       "      <td>0111112111211311113300002003331111100220200200...</td>\n",
       "    </tr>\n",
       "    <tr>\n",
       "      <th>15568</th>\n",
       "      <td>150</td>\n",
       "      <td>1226.0</td>\n",
       "      <td>3323001331110133231133323310010000001333111112...</td>\n",
       "    </tr>\n",
       "    <tr>\n",
       "      <th>15569</th>\n",
       "      <td>150</td>\n",
       "      <td>983.0</td>\n",
       "      <td>0111112111211311113300002003331111100220200200...</td>\n",
       "    </tr>\n",
       "    <tr>\n",
       "      <th>15570</th>\n",
       "      <td>150</td>\n",
       "      <td>1213.2</td>\n",
       "      <td>3303311111003311333300000332331123111111323211...</td>\n",
       "    </tr>\n",
       "    <tr>\n",
       "      <th>15571</th>\n",
       "      <td>142</td>\n",
       "      <td>983.0</td>\n",
       "      <td>0111112111211311113300002003331111100220200200...</td>\n",
       "    </tr>\n",
       "  </tbody>\n",
       "</table>\n",
       "<p>15572 rows × 3 columns</p>\n",
       "</div>"
      ],
      "text/plain": [
       "        generation  fitness                                               path\n",
       "run_id                                                                        \n",
       "0              150     92.0                          2312223130123323201001101\n",
       "1              150     92.0                          2323122232323231332021323\n",
       "2              150     92.0                          2323221230310310231021123\n",
       "3              150     92.0                          2312312202313232023031233\n",
       "4              150     92.0                          2322123130123010301230112\n",
       "...            ...      ...                                                ...\n",
       "15567          150    949.4  0111112111211311113300002003331111100220200200...\n",
       "15568          150   1226.0  3323001331110133231133323310010000001333111112...\n",
       "15569          150    983.0  0111112111211311113300002003331111100220200200...\n",
       "15570          150   1213.2  3303311111003311333300000332331123111111323211...\n",
       "15571          142    983.0  0111112111211311113300002003331111100220200200...\n",
       "\n",
       "[15572 rows x 3 columns]"
      ]
     },
     "execution_count": 46,
     "metadata": {},
     "output_type": "execute_result"
    }
   ],
   "source": [
    "best_scores = gen_scores.groupby(\"run_id\").max()\n",
    "best_scores"
   ]
  },
  {
   "cell_type": "code",
   "execution_count": 48,
   "metadata": {},
   "outputs": [
    {
     "data": {
      "text/plain": [
       "15571"
      ]
     },
     "execution_count": 48,
     "metadata": {},
     "output_type": "execute_result"
    }
   ],
   "source": [
    "gen_scores[\"run_id\"].max()"
   ]
  },
  {
   "cell_type": "code",
   "execution_count": 47,
   "metadata": {},
   "outputs": [],
   "source": [
    "# run scores groupby run_id max fitness ordered\n",
    "runs[\"best_score\"] = best_scores[\"fitness\"]"
   ]
  },
  {
   "cell_type": "code",
   "execution_count": 68,
   "metadata": {},
   "outputs": [],
   "source": [
    "best_scores_maze5 = runs[(runs[\"best_score\"].notna()) & (runs[\"maze_file\"] == \"maze_5.txt\")][[\"valid_only\", \"population_size\", \"parents\", \"mutation_probability\", \"elitism\", \"use_custom_functions\", \"best_score\"]]"
   ]
  },
  {
   "cell_type": "code",
   "execution_count": 75,
   "metadata": {},
   "outputs": [
    {
     "data": {
      "text/plain": [
       "<AxesSubplot:>"
      ]
     },
     "execution_count": 75,
     "metadata": {},
     "output_type": "execute_result"
    },
    {
     "data": {
      "image/png": "[encoded data removed]",
      "text/plain": [
       "<Figure size 640x480 with 2 Axes>"
      ]
     },
     "metadata": {},
     "output_type": "display_data"
    }
   ],
   "source": [
    "sns.heatmap(best_scores_maze5.corr(), annot=False, cmap=\"YlGnBu\")"
   ]
  }
 ],
 "metadata": {
  "kernelspec": {
   "display_name": "Python 3.9.13 ('base')",
   "language": "python",
   "name": "python3"
  },
  "language_info": {
   "codemirror_mode": {
    "name": "ipython",
    "version": 3
   },
   "file_extension": ".py",
   "mimetype": "text/x-python",
   "name": "python",
   "nbconvert_exporter": "python",
   "pygments_lexer": "ipython3",
   "version": "3.9.13"
  },
  "orig_nbformat": 4,
  "vscode": {
   "interpreter": {
    "hash": "7f1651fc764db4ab39fb74bfca515ceb2516abdc2e253ba80310dae2b3790474"
   }
  }
 },
 "nbformat": 4,
 "nbformat_minor": 2
}
