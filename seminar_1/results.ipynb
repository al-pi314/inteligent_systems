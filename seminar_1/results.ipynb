{
 "cells": [
  {
   "cell_type": "code",
   "execution_count": 1,
   "metadata": {},
   "outputs": [],
   "source": [
    "import pandas as pd\n",
    "import matplotlib.pyplot as plt\n",
    "from maze_ga import MazeGa\n",
    "from display import show_solution\n",
    "import seaborn as sns\n",
    "import numpy as np"
   ]
  },
  {
   "cell_type": "code",
   "execution_count": 44,
   "metadata": {},
   "outputs": [
    {
     "data": {
      "text/html": [
       "<div>\n",
       "<style scoped>\n",
       "    .dataframe tbody tr th:only-of-type {\n",
       "        vertical-align: middle;\n",
       "    }\n",
       "\n",
       "    .dataframe tbody tr th {\n",
       "        vertical-align: top;\n",
       "    }\n",
       "\n",
       "    .dataframe thead th {\n",
       "        text-align: right;\n",
       "    }\n",
       "</style>\n",
       "<table border=\"1\" class=\"dataframe\">\n",
       "  <thead>\n",
       "    <tr style=\"text-align: right;\">\n",
       "      <th></th>\n",
       "      <th>maze_file</th>\n",
       "      <th>generations</th>\n",
       "      <th>valid_only</th>\n",
       "      <th>population_size</th>\n",
       "      <th>parents</th>\n",
       "      <th>mutation_probability</th>\n",
       "      <th>elitism</th>\n",
       "      <th>use_custom_functions</th>\n",
       "      <th>run_id</th>\n",
       "    </tr>\n",
       "  </thead>\n",
       "  <tbody>\n",
       "    <tr>\n",
       "      <th>0</th>\n",
       "      <td>maze_1.txt</td>\n",
       "      <td>150</td>\n",
       "      <td>True</td>\n",
       "      <td>25</td>\n",
       "      <td>0.07</td>\n",
       "      <td>0.01</td>\n",
       "      <td>0.01</td>\n",
       "      <td>True</td>\n",
       "      <td>21</td>\n",
       "    </tr>\n",
       "    <tr>\n",
       "      <th>1</th>\n",
       "      <td>maze_1.txt</td>\n",
       "      <td>150</td>\n",
       "      <td>True</td>\n",
       "      <td>25</td>\n",
       "      <td>0.01</td>\n",
       "      <td>0.01</td>\n",
       "      <td>0.01</td>\n",
       "      <td>True</td>\n",
       "      <td>1</td>\n",
       "    </tr>\n",
       "    <tr>\n",
       "      <th>2</th>\n",
       "      <td>maze_1.txt</td>\n",
       "      <td>150</td>\n",
       "      <td>True</td>\n",
       "      <td>25</td>\n",
       "      <td>0.01</td>\n",
       "      <td>0.01</td>\n",
       "      <td>0.10</td>\n",
       "      <td>True</td>\n",
       "      <td>2</td>\n",
       "    </tr>\n",
       "    <tr>\n",
       "      <th>3</th>\n",
       "      <td>maze_1.txt</td>\n",
       "      <td>150</td>\n",
       "      <td>True</td>\n",
       "      <td>25</td>\n",
       "      <td>0.07</td>\n",
       "      <td>0.01</td>\n",
       "      <td>0.10</td>\n",
       "      <td>True</td>\n",
       "      <td>22</td>\n",
       "    </tr>\n",
       "    <tr>\n",
       "      <th>4</th>\n",
       "      <td>maze_1.txt</td>\n",
       "      <td>150</td>\n",
       "      <td>True</td>\n",
       "      <td>25</td>\n",
       "      <td>0.25</td>\n",
       "      <td>0.01</td>\n",
       "      <td>0.01</td>\n",
       "      <td>True</td>\n",
       "      <td>81</td>\n",
       "    </tr>\n",
       "  </tbody>\n",
       "</table>\n",
       "</div>"
      ],
      "text/plain": [
       "    maze_file  generations  valid_only  population_size  parents  \\\n",
       "0  maze_1.txt          150        True               25     0.07   \n",
       "1  maze_1.txt          150        True               25     0.01   \n",
       "2  maze_1.txt          150        True               25     0.01   \n",
       "3  maze_1.txt          150        True               25     0.07   \n",
       "4  maze_1.txt          150        True               25     0.25   \n",
       "\n",
       "   mutation_probability  elitism  use_custom_functions  run_id  \n",
       "0                  0.01     0.01                  True      21  \n",
       "1                  0.01     0.01                  True       1  \n",
       "2                  0.01     0.10                  True       2  \n",
       "3                  0.01     0.10                  True      22  \n",
       "4                  0.01     0.01                  True      81  "
      ]
     },
     "execution_count": 44,
     "metadata": {},
     "output_type": "execute_result"
    }
   ],
   "source": [
    "runs = pd.read_csv('./seminar_1/results/runs.csv', index_col=0)\n",
    "runs.head()"
   ]
  },
  {
   "cell_type": "code",
   "execution_count": 3,
   "metadata": {},
   "outputs": [
    {
     "data": {
      "text/html": [
       "<div>\n",
       "<style scoped>\n",
       "    .dataframe tbody tr th:only-of-type {\n",
       "        vertical-align: middle;\n",
       "    }\n",
       "\n",
       "    .dataframe tbody tr th {\n",
       "        vertical-align: top;\n",
       "    }\n",
       "\n",
       "    .dataframe thead th {\n",
       "        text-align: right;\n",
       "    }\n",
       "</style>\n",
       "<table border=\"1\" class=\"dataframe\">\n",
       "  <thead>\n",
       "    <tr style=\"text-align: right;\">\n",
       "      <th></th>\n",
       "      <th>run_id</th>\n",
       "      <th>generation</th>\n",
       "      <th>fitness</th>\n",
       "      <th>path</th>\n",
       "    </tr>\n",
       "  </thead>\n",
       "  <tbody>\n",
       "    <tr>\n",
       "      <th>0</th>\n",
       "      <td>21</td>\n",
       "      <td>0</td>\n",
       "      <td>79.6</td>\n",
       "      <td>1021120012303113001122023</td>\n",
       "    </tr>\n",
       "    <tr>\n",
       "      <th>1</th>\n",
       "      <td>21</td>\n",
       "      <td>1</td>\n",
       "      <td>83.8</td>\n",
       "      <td>1021120231010013301213232</td>\n",
       "    </tr>\n",
       "    <tr>\n",
       "      <th>2</th>\n",
       "      <td>21</td>\n",
       "      <td>2</td>\n",
       "      <td>83.8</td>\n",
       "      <td>1021120230332212323100310</td>\n",
       "    </tr>\n",
       "    <tr>\n",
       "      <th>3</th>\n",
       "      <td>21</td>\n",
       "      <td>3</td>\n",
       "      <td>79.6</td>\n",
       "      <td>1021120012303112001031223</td>\n",
       "    </tr>\n",
       "    <tr>\n",
       "      <th>4</th>\n",
       "      <td>21</td>\n",
       "      <td>4</td>\n",
       "      <td>87.8</td>\n",
       "      <td>1021223133230021130120201</td>\n",
       "    </tr>\n",
       "  </tbody>\n",
       "</table>\n",
       "</div>"
      ],
      "text/plain": [
       "   run_id  generation  fitness                       path\n",
       "0      21           0     79.6  1021120012303113001122023\n",
       "1      21           1     83.8  1021120231010013301213232\n",
       "2      21           2     83.8  1021120230332212323100310\n",
       "3      21           3     79.6  1021120012303112001031223\n",
       "4      21           4     87.8  1021223133230021130120201"
      ]
     },
     "execution_count": 3,
     "metadata": {},
     "output_type": "execute_result"
    }
   ],
   "source": [
    "gen_scores = pd.read_csv('./seminar_1/results/generations_scores.csv', index_col=0)\n",
    "gen_scores.head()"
   ]
  },
  {
   "cell_type": "code",
   "execution_count": 4,
   "metadata": {},
   "outputs": [
    {
     "name": "stdout",
     "output_type": "stream",
     "text": [
      "<class 'pandas.core.frame.DataFrame'>\n",
      "Int64Index: 38005 entries, 0 to 38004\n",
      "Data columns (total 9 columns):\n",
      " #   Column                Non-Null Count  Dtype  \n",
      "---  ------                --------------  -----  \n",
      " 0   maze_file             38005 non-null  object \n",
      " 1   generations           38005 non-null  int64  \n",
      " 2   valid_only            38005 non-null  bool   \n",
      " 3   population_size       38005 non-null  int64  \n",
      " 4   parents               38005 non-null  float64\n",
      " 5   mutation_probability  38005 non-null  float64\n",
      " 6   elitism               38005 non-null  float64\n",
      " 7   use_custom_functions  38005 non-null  bool   \n",
      " 8   run_id                38005 non-null  int64  \n",
      "dtypes: bool(2), float64(3), int64(3), object(1)\n",
      "memory usage: 2.4+ MB\n"
     ]
    }
   ],
   "source": [
    "runs.info()"
   ]
  },
  {
   "cell_type": "code",
   "execution_count": 5,
   "metadata": {},
   "outputs": [
    {
     "name": "stdout",
     "output_type": "stream",
     "text": [
      "<class 'pandas.core.frame.DataFrame'>\n",
      "Int64Index: 2654126 entries, 0 to 2654125\n",
      "Data columns (total 4 columns):\n",
      " #   Column      Dtype  \n",
      "---  ------      -----  \n",
      " 0   run_id      int64  \n",
      " 1   generation  int64  \n",
      " 2   fitness     float64\n",
      " 3   path        object \n",
      "dtypes: float64(1), int64(2), object(1)\n",
      "memory usage: 101.2+ MB\n"
     ]
    }
   ],
   "source": [
    "gen_scores.info()"
   ]
  },
  {
   "cell_type": "code",
   "execution_count": 6,
   "metadata": {},
   "outputs": [],
   "source": [
    "def condition(maze_file, generations, valid_only, population_size, parents, mutation_probability, elitism, use_custom_functions):\n",
    "    condition = (runs.maze_file == maze_file)\n",
    "    if generations is not None:\n",
    "        condition = condition & (runs.generations == generations)\n",
    "    if valid_only is not None:\n",
    "        condition = condition & (runs.valid_only == valid_only)\n",
    "    if population_size is not None:\n",
    "        condition = condition & (runs.population_size == population_size)\n",
    "    if parents is not None:\n",
    "        condition = condition & (runs.parents == parents)\n",
    "    if mutation_probability is not None:\n",
    "        condition = condition & (runs.mutation_probability == mutation_probability)\n",
    "    if elitism is not None:\n",
    "        condition = condition & (runs.elitism == elitism)\n",
    "    if use_custom_functions is not None:\n",
    "        condition = condition & (runs.use_custom_functions == use_custom_functions)\n",
    "    return condition\n"
   ]
  },
  {
   "cell_type": "code",
   "execution_count": 7,
   "metadata": {},
   "outputs": [
    {
     "data": {
      "text/html": [
       "<div>\n",
       "<style scoped>\n",
       "    .dataframe tbody tr th:only-of-type {\n",
       "        vertical-align: middle;\n",
       "    }\n",
       "\n",
       "    .dataframe tbody tr th {\n",
       "        vertical-align: top;\n",
       "    }\n",
       "\n",
       "    .dataframe thead th {\n",
       "        text-align: right;\n",
       "    }\n",
       "</style>\n",
       "<table border=\"1\" class=\"dataframe\">\n",
       "  <thead>\n",
       "    <tr style=\"text-align: right;\">\n",
       "      <th></th>\n",
       "      <th>maze_file</th>\n",
       "      <th>generations</th>\n",
       "      <th>valid_only</th>\n",
       "      <th>population_size</th>\n",
       "      <th>parents</th>\n",
       "      <th>mutation_probability</th>\n",
       "      <th>elitism</th>\n",
       "      <th>use_custom_functions</th>\n",
       "      <th>run_id</th>\n",
       "    </tr>\n",
       "  </thead>\n",
       "  <tbody>\n",
       "    <tr>\n",
       "      <th>16978</th>\n",
       "      <td>maze_5.txt</td>\n",
       "      <td>150</td>\n",
       "      <td>False</td>\n",
       "      <td>250</td>\n",
       "      <td>0.25</td>\n",
       "      <td>0.01</td>\n",
       "      <td>0.01</td>\n",
       "      <td>False</td>\n",
       "      <td>14973</td>\n",
       "    </tr>\n",
       "  </tbody>\n",
       "</table>\n",
       "</div>"
      ],
      "text/plain": [
       "        maze_file  generations  valid_only  population_size  parents  \\\n",
       "16978  maze_5.txt          150       False              250     0.25   \n",
       "\n",
       "       mutation_probability  elitism  use_custom_functions  run_id  \n",
       "16978                  0.01     0.01                 False   14973  "
      ]
     },
     "execution_count": 7,
     "metadata": {},
     "output_type": "execute_result"
    }
   ],
   "source": [
    "runs.loc[condition(\"maze_5.txt\", 150, False, 250, 0.25, 0.01, 0.01, False)]"
   ]
  },
  {
   "cell_type": "markdown",
   "metadata": {},
   "source": [
    "### Maze 5 Score by Generation (Basic Parameters)"
   ]
  },
  {
   "cell_type": "code",
   "execution_count": 8,
   "metadata": {},
   "outputs": [],
   "source": [
    "run_id = int(runs.loc[condition(\"maze_5.txt\", 150, False, 25, 0.25, 0.01, 0.1, False)][\"run_id\"])\n",
    "run_scores = gen_scores.loc[gen_scores.run_id == run_id]"
   ]
  },
  {
   "cell_type": "code",
   "execution_count": 9,
   "metadata": {},
   "outputs": [
    {
     "data": {
      "text/plain": [
       "Text(0.5, 1.0, 'maze_5 without custom functions')"
      ]
     },
     "execution_count": 9,
     "metadata": {},
     "output_type": "execute_result"
    },
    {
     "data": {
      "image/png": "[encoded data removed]",
      "text/plain": [
       "<Figure size 640x480 with 1 Axes>"
      ]
     },
     "metadata": {},
     "output_type": "display_data"
    }
   ],
   "source": [
    "plt.plot(run_scores.generation[:100], run_scores.fitness[:100])\n",
    "plt.xlabel(\"Generation\")\n",
    "plt.ylabel(\"Fitness\")\n",
    "plt.title(\"maze_5 without custom functions\")"
   ]
  },
  {
   "cell_type": "code",
   "execution_count": 10,
   "metadata": {},
   "outputs": [],
   "source": [
    "last_solution = run_scores.loc[run_scores.generation == 150]"
   ]
  },
  {
   "cell_type": "code",
   "execution_count": 11,
   "metadata": {},
   "outputs": [],
   "source": [
    "with open(\"./seminar_1/mazes/maze_5.txt\", \"r\") as m:\n",
    "    maze_string = m.read()\n",
    "mga = MazeGa(maze_string)"
   ]
  },
  {
   "cell_type": "code",
   "execution_count": 12,
   "metadata": {},
   "outputs": [],
   "source": [
    "solution_path = mga.path_str_to_list(last_solution.path.values[0])"
   ]
  },
  {
   "cell_type": "code",
   "execution_count": 13,
   "metadata": {},
   "outputs": [
    {
     "name": "stdout",
     "output_type": "stream",
     "text": [
      "-----------------------------------\n",
      "Current score 465.4\n",
      "D D L L D D L U U D D D U U L U U R R U U L L R U R U L R U D R U U D R U U D L L U L D L R D D U L D D U U D D L L U D D R R U D U U L L R L D D D U R R R U R U R U R D R D R R L L U U R U L D D D D L L U D U R R R L U L D R D D U U L D U L L R U U U L R D U L L D D D L R U D U U L D L L D U \n",
      "###x###########\n",
      "#..xxxxxx###..#\n",
      "########x....##\n",
      "#.....##x###.##\n",
      "#.###...xx##..#\n",
      "#.....###xxx###\n",
      "####.####x#x###\n",
      "##......#xxxxx#\n",
      "#######.#x###.#\n",
      "#.....xxxx#####\n",
      "#.####xx#....##\n",
      "##.xxx#x#######\n",
      "#..##xxx......#\n",
      "##...###.##.###\n",
      "###############\n",
      "\n"
     ]
    }
   ],
   "source": [
    "show_solution(mga, solution_path, last_solution.fitness.values[0], sequential_display=False)"
   ]
  },
  {
   "cell_type": "markdown",
   "metadata": {},
   "source": [
    "### Maze 5 Score By Generation (Advanced Parameters)"
   ]
  },
  {
   "cell_type": "code",
   "execution_count": 14,
   "metadata": {},
   "outputs": [],
   "source": [
    "run_id = int(runs.loc[condition(\"maze_5.txt\", 150, True, 25, 0.25, 0.01, 0.1, True)][\"run_id\"])\n",
    "run_scores = gen_scores.loc[gen_scores.run_id == run_id]"
   ]
  },
  {
   "cell_type": "code",
   "execution_count": 15,
   "metadata": {},
   "outputs": [
    {
     "data": {
      "text/plain": [
       "Text(0.5, 1.0, 'maze_5 with custom functions')"
      ]
     },
     "execution_count": 15,
     "metadata": {},
     "output_type": "execute_result"
    },
    {
     "data": {
      "image/png": "[encoded data removed]",
      "text/plain": [
       "<Figure size 640x480 with 1 Axes>"
      ]
     },
     "metadata": {},
     "output_type": "display_data"
    }
   ],
   "source": [
    "plt.plot(run_scores.generation[:100], run_scores.fitness[:100])\n",
    "plt.xlabel(\"Generation\")\n",
    "plt.ylabel(\"Fitness\")\n",
    "plt.title(\"maze_5 with custom functions\")"
   ]
  },
  {
   "cell_type": "code",
   "execution_count": 16,
   "metadata": {},
   "outputs": [],
   "source": [
    "last_solution = run_scores.loc[run_scores.generation == 150]"
   ]
  },
  {
   "cell_type": "code",
   "execution_count": 17,
   "metadata": {},
   "outputs": [],
   "source": [
    "solution_path = mga.path_str_to_list(last_solution.path.values[0])"
   ]
  },
  {
   "cell_type": "code",
   "execution_count": 18,
   "metadata": {},
   "outputs": [
    {
     "name": "stdout",
     "output_type": "stream",
     "text": [
      "-----------------------------------\n",
      "Current score 864.0\n",
      "U R R U U U U U L U U U L L L L L U \n",
      "###x###########\n",
      "#..xxxxxx###..#\n",
      "########x....##\n",
      "#.....##x###.##\n",
      "#.###...xx##..#\n",
      "#.....###x..###\n",
      "####.####x#.###\n",
      "##......#x....#\n",
      "#######.#x###.#\n",
      "#......xxx#####\n",
      "#.####.S#....##\n",
      "##....#.#######\n",
      "#..##.........#\n",
      "##...###.##.###\n",
      "###############\n",
      "\n"
     ]
    }
   ],
   "source": [
    "show_solution(mga, solution_path, last_solution.fitness.values[0], sequential_display=False)"
   ]
  },
  {
   "cell_type": "code",
   "execution_count": 19,
   "metadata": {},
   "outputs": [
    {
     "data": {
      "text/plain": [
       "Text(0.5, 1.0, 'time vs maze size')"
      ]
     },
     "execution_count": 19,
     "metadata": {},
     "output_type": "execute_result"
    },
    {
     "data": {
      "image/png": "[encoded data removed]",
      "text/plain": [
       "<Figure size 640x480 with 1 Axes>"
      ]
     },
     "metadata": {},
     "output_type": "display_data"
    }
   ],
   "source": [
    "size = [25, 49, 100, 100, 225, 324, 400]\n",
    "side_len = np.sqrt(size)\n",
    "time = [5.920, 9.005, 18.163, 18.455, 42.635, 69.021, 84.479]\n",
    "\n",
    "plt.plot(size, time)\n",
    "plt.xlabel(\"maze size\")\n",
    "plt.ylabel(\"time (s)\")\n",
    "plt.title(\"time vs maze size\")"
   ]
  },
  {
   "cell_type": "code",
   "execution_count": 76,
   "metadata": {},
   "outputs": [],
   "source": [
    "curr = runs.loc[condition(\"maze_5.txt\", 150, True, None, 0.13, 0.01, 0.01, True)]"
   ]
  },
  {
   "cell_type": "code",
   "execution_count": 77,
   "metadata": {},
   "outputs": [
    {
     "name": "stdout",
     "output_type": "stream",
     "text": [
      "<class 'pandas.core.frame.DataFrame'>\n",
      "Int64Index: 10 entries, 14067 to 15417\n",
      "Data columns (total 9 columns):\n",
      " #   Column                Non-Null Count  Dtype  \n",
      "---  ------                --------------  -----  \n",
      " 0   maze_file             10 non-null     object \n",
      " 1   generations           10 non-null     int64  \n",
      " 2   valid_only            10 non-null     bool   \n",
      " 3   population_size       10 non-null     int64  \n",
      " 4   parents               10 non-null     float64\n",
      " 5   mutation_probability  10 non-null     float64\n",
      " 6   elitism               10 non-null     float64\n",
      " 7   use_custom_functions  10 non-null     bool   \n",
      " 8   run_id                10 non-null     int64  \n",
      "dtypes: bool(2), float64(3), int64(3), object(1)\n",
      "memory usage: 660.0+ bytes\n"
     ]
    }
   ],
   "source": [
    "curr.info()"
   ]
  },
  {
   "cell_type": "code",
   "execution_count": 85,
   "metadata": {},
   "outputs": [
    {
     "data": {
      "text/html": [
       "<div>\n",
       "<style scoped>\n",
       "    .dataframe tbody tr th:only-of-type {\n",
       "        vertical-align: middle;\n",
       "    }\n",
       "\n",
       "    .dataframe tbody tr th {\n",
       "        vertical-align: top;\n",
       "    }\n",
       "\n",
       "    .dataframe thead th {\n",
       "        text-align: right;\n",
       "    }\n",
       "</style>\n",
       "<table border=\"1\" class=\"dataframe\">\n",
       "  <thead>\n",
       "    <tr style=\"text-align: right;\">\n",
       "      <th></th>\n",
       "      <th>run_id</th>\n",
       "      <th>population_size</th>\n",
       "      <th>generation</th>\n",
       "      <th>fitness</th>\n",
       "      <th>path</th>\n",
       "    </tr>\n",
       "  </thead>\n",
       "  <tbody>\n",
       "    <tr>\n",
       "      <th>453</th>\n",
       "      <td>12512</td>\n",
       "      <td>100</td>\n",
       "      <td>0</td>\n",
       "      <td>653.6</td>\n",
       "      <td>0120000003211111111221111320022002000020000331...</td>\n",
       "    </tr>\n",
       "    <tr>\n",
       "      <th>454</th>\n",
       "      <td>12512</td>\n",
       "      <td>100</td>\n",
       "      <td>1</td>\n",
       "      <td>696.0</td>\n",
       "      <td>0120000003211111111221111320022002000020000331...</td>\n",
       "    </tr>\n",
       "    <tr>\n",
       "      <th>455</th>\n",
       "      <td>12512</td>\n",
       "      <td>100</td>\n",
       "      <td>2</td>\n",
       "      <td>724.8</td>\n",
       "      <td>0120000011111102201013200113200022000221111311...</td>\n",
       "    </tr>\n",
       "    <tr>\n",
       "      <th>456</th>\n",
       "      <td>12512</td>\n",
       "      <td>100</td>\n",
       "      <td>3</td>\n",
       "      <td>758.8</td>\n",
       "      <td>0120011112211113200220020000111221111210103331...</td>\n",
       "    </tr>\n",
       "    <tr>\n",
       "      <th>457</th>\n",
       "      <td>12512</td>\n",
       "      <td>100</td>\n",
       "      <td>4</td>\n",
       "      <td>758.8</td>\n",
       "      <td>0120011112211113200220020000111221111210103331...</td>\n",
       "    </tr>\n",
       "    <tr>\n",
       "      <th>...</th>\n",
       "      <td>...</td>\n",
       "      <td>...</td>\n",
       "      <td>...</td>\n",
       "      <td>...</td>\n",
       "      <td>...</td>\n",
       "    </tr>\n",
       "    <tr>\n",
       "      <th>1505</th>\n",
       "      <td>13412</td>\n",
       "      <td>250</td>\n",
       "      <td>146</td>\n",
       "      <td>864.0</td>\n",
       "      <td>2112222202220000023101001232301100011102301001...</td>\n",
       "    </tr>\n",
       "    <tr>\n",
       "      <th>1506</th>\n",
       "      <td>13412</td>\n",
       "      <td>250</td>\n",
       "      <td>147</td>\n",
       "      <td>864.0</td>\n",
       "      <td>2112222202220000023101000101011001101100111001...</td>\n",
       "    </tr>\n",
       "    <tr>\n",
       "      <th>1507</th>\n",
       "      <td>13412</td>\n",
       "      <td>250</td>\n",
       "      <td>148</td>\n",
       "      <td>864.0</td>\n",
       "      <td>2112222202220000023101000111010001010101011230...</td>\n",
       "    </tr>\n",
       "    <tr>\n",
       "      <th>1508</th>\n",
       "      <td>13412</td>\n",
       "      <td>250</td>\n",
       "      <td>149</td>\n",
       "      <td>864.0</td>\n",
       "      <td>2112222202220000023101000101011001101100111001...</td>\n",
       "    </tr>\n",
       "    <tr>\n",
       "      <th>1509</th>\n",
       "      <td>13412</td>\n",
       "      <td>250</td>\n",
       "      <td>150</td>\n",
       "      <td>864.0</td>\n",
       "      <td>2112222202220000023231010110023111110001110101...</td>\n",
       "    </tr>\n",
       "  </tbody>\n",
       "</table>\n",
       "<p>1057 rows × 5 columns</p>\n",
       "</div>"
      ],
      "text/plain": [
       "      run_id  population_size  generation  fitness  \\\n",
       "453    12512              100           0    653.6   \n",
       "454    12512              100           1    696.0   \n",
       "455    12512              100           2    724.8   \n",
       "456    12512              100           3    758.8   \n",
       "457    12512              100           4    758.8   \n",
       "...      ...              ...         ...      ...   \n",
       "1505   13412              250         146    864.0   \n",
       "1506   13412              250         147    864.0   \n",
       "1507   13412              250         148    864.0   \n",
       "1508   13412              250         149    864.0   \n",
       "1509   13412              250         150    864.0   \n",
       "\n",
       "                                                   path  \n",
       "453   0120000003211111111221111320022002000020000331...  \n",
       "454   0120000003211111111221111320022002000020000331...  \n",
       "455   0120000011111102201013200113200022000221111311...  \n",
       "456   0120011112211113200220020000111221111210103331...  \n",
       "457   0120011112211113200220020000111221111210103331...  \n",
       "...                                                 ...  \n",
       "1505  2112222202220000023101001232301100011102301001...  \n",
       "1506  2112222202220000023101000101011001101100111001...  \n",
       "1507  2112222202220000023101000111010001010101011230...  \n",
       "1508  2112222202220000023101000101011001101100111001...  \n",
       "1509  2112222202220000023231010110023111110001110101...  \n",
       "\n",
       "[1057 rows x 5 columns]"
      ]
     },
     "execution_count": 85,
     "metadata": {},
     "output_type": "execute_result"
    }
   ],
   "source": [
    "merged = pd.merge(curr[[\"run_id\", \"population_size\"]], gen_scores, on=\"run_id\")\n",
    "merged = merged[(merged[\"population_size\"] % 25 == 0) & (merged[\"population_size\"] > 75)]\n",
    "merged"
   ]
  },
  {
   "cell_type": "code",
   "execution_count": 86,
   "metadata": {},
   "outputs": [
    {
     "data": {
      "text/plain": [
       "array([12512, 12662, 12812, 12962, 13112, 13262, 13412], dtype=int64)"
      ]
     },
     "execution_count": 86,
     "metadata": {},
     "output_type": "execute_result"
    }
   ],
   "source": [
    "run_ids = merged[\"run_id\"].unique()\n",
    "run_ids"
   ]
  },
  {
   "cell_type": "code",
   "execution_count": 90,
   "metadata": {},
   "outputs": [
    {
     "data": {
      "text/plain": [
       "Text(0.5, 1.0, 'Comparison of population sizes')"
      ]
     },
     "execution_count": 90,
     "metadata": {},
     "output_type": "execute_result"
    },
    {
     "data": {
      "image/png": "[encoded data removed]",
      "text/plain": [
       "<Figure size 640x480 with 1 Axes>"
      ]
     },
     "metadata": {},
     "output_type": "display_data"
    }
   ],
   "source": [
    "first_nth = 40\n",
    "for rid in run_ids:\n",
    "    plt.plot(merged.loc[merged[\"run_id\"] == rid][\"generation\"][:first_nth], merged.loc[merged[\"run_id\"] == rid][\"fitness\"][:first_nth], label=int(runs[runs[\"run_id\"] == rid][\"population_size\"]))\n",
    "plt.legend()\n",
    "plt.xlabel(\"Generation\")\n",
    "plt.ylabel(\"Fitness\")\n",
    "plt.title(\"Comparison of population sizes\")"
   ]
  },
  {
   "cell_type": "code",
   "execution_count": 91,
   "metadata": {},
   "outputs": [],
   "source": [
    "joined_tables = pd.merge(runs, gen_scores, on=\"run_id\")"
   ]
  },
  {
   "cell_type": "code",
   "execution_count": 95,
   "metadata": {},
   "outputs": [
    {
     "data": {
      "text/html": [
       "<div>\n",
       "<style scoped>\n",
       "    .dataframe tbody tr th:only-of-type {\n",
       "        vertical-align: middle;\n",
       "    }\n",
       "\n",
       "    .dataframe tbody tr th {\n",
       "        vertical-align: top;\n",
       "    }\n",
       "\n",
       "    .dataframe thead th {\n",
       "        text-align: right;\n",
       "    }\n",
       "</style>\n",
       "<table border=\"1\" class=\"dataframe\">\n",
       "  <thead>\n",
       "    <tr style=\"text-align: right;\">\n",
       "      <th></th>\n",
       "      <th>maze_file</th>\n",
       "      <th>generations</th>\n",
       "      <th>valid_only</th>\n",
       "      <th>population_size</th>\n",
       "      <th>parents</th>\n",
       "      <th>mutation_probability</th>\n",
       "      <th>elitism</th>\n",
       "      <th>use_custom_functions</th>\n",
       "      <th>run_id</th>\n",
       "    </tr>\n",
       "  </thead>\n",
       "  <tbody>\n",
       "    <tr>\n",
       "      <th>20005</th>\n",
       "      <td>maze_7.txt</td>\n",
       "      <td>150</td>\n",
       "      <td>True</td>\n",
       "      <td>25</td>\n",
       "      <td>0.01</td>\n",
       "      <td>0.01</td>\n",
       "      <td>0.00</td>\n",
       "      <td>True</td>\n",
       "      <td>18000</td>\n",
       "    </tr>\n",
       "    <tr>\n",
       "      <th>20006</th>\n",
       "      <td>maze_7.txt</td>\n",
       "      <td>150</td>\n",
       "      <td>True</td>\n",
       "      <td>25</td>\n",
       "      <td>0.01</td>\n",
       "      <td>0.01</td>\n",
       "      <td>0.00</td>\n",
       "      <td>False</td>\n",
       "      <td>18001</td>\n",
       "    </tr>\n",
       "    <tr>\n",
       "      <th>20007</th>\n",
       "      <td>maze_7.txt</td>\n",
       "      <td>150</td>\n",
       "      <td>True</td>\n",
       "      <td>25</td>\n",
       "      <td>0.01</td>\n",
       "      <td>0.01</td>\n",
       "      <td>0.01</td>\n",
       "      <td>True</td>\n",
       "      <td>18002</td>\n",
       "    </tr>\n",
       "    <tr>\n",
       "      <th>20008</th>\n",
       "      <td>maze_7.txt</td>\n",
       "      <td>150</td>\n",
       "      <td>True</td>\n",
       "      <td>25</td>\n",
       "      <td>0.01</td>\n",
       "      <td>0.01</td>\n",
       "      <td>0.01</td>\n",
       "      <td>False</td>\n",
       "      <td>18003</td>\n",
       "    </tr>\n",
       "    <tr>\n",
       "      <th>20009</th>\n",
       "      <td>maze_7.txt</td>\n",
       "      <td>150</td>\n",
       "      <td>True</td>\n",
       "      <td>25</td>\n",
       "      <td>0.01</td>\n",
       "      <td>0.01</td>\n",
       "      <td>0.10</td>\n",
       "      <td>True</td>\n",
       "      <td>18004</td>\n",
       "    </tr>\n",
       "    <tr>\n",
       "      <th>...</th>\n",
       "      <td>...</td>\n",
       "      <td>...</td>\n",
       "      <td>...</td>\n",
       "      <td>...</td>\n",
       "      <td>...</td>\n",
       "      <td>...</td>\n",
       "      <td>...</td>\n",
       "      <td>...</td>\n",
       "      <td>...</td>\n",
       "    </tr>\n",
       "    <tr>\n",
       "      <th>23000</th>\n",
       "      <td>maze_7.txt</td>\n",
       "      <td>150</td>\n",
       "      <td>False</td>\n",
       "      <td>250</td>\n",
       "      <td>0.25</td>\n",
       "      <td>0.10</td>\n",
       "      <td>0.00</td>\n",
       "      <td>False</td>\n",
       "      <td>20995</td>\n",
       "    </tr>\n",
       "    <tr>\n",
       "      <th>23001</th>\n",
       "      <td>maze_7.txt</td>\n",
       "      <td>150</td>\n",
       "      <td>False</td>\n",
       "      <td>250</td>\n",
       "      <td>0.25</td>\n",
       "      <td>0.10</td>\n",
       "      <td>0.01</td>\n",
       "      <td>True</td>\n",
       "      <td>20996</td>\n",
       "    </tr>\n",
       "    <tr>\n",
       "      <th>23002</th>\n",
       "      <td>maze_7.txt</td>\n",
       "      <td>150</td>\n",
       "      <td>False</td>\n",
       "      <td>250</td>\n",
       "      <td>0.25</td>\n",
       "      <td>0.10</td>\n",
       "      <td>0.01</td>\n",
       "      <td>False</td>\n",
       "      <td>20997</td>\n",
       "    </tr>\n",
       "    <tr>\n",
       "      <th>23003</th>\n",
       "      <td>maze_7.txt</td>\n",
       "      <td>150</td>\n",
       "      <td>False</td>\n",
       "      <td>250</td>\n",
       "      <td>0.25</td>\n",
       "      <td>0.10</td>\n",
       "      <td>0.10</td>\n",
       "      <td>True</td>\n",
       "      <td>20998</td>\n",
       "    </tr>\n",
       "    <tr>\n",
       "      <th>23004</th>\n",
       "      <td>maze_7.txt</td>\n",
       "      <td>150</td>\n",
       "      <td>False</td>\n",
       "      <td>250</td>\n",
       "      <td>0.25</td>\n",
       "      <td>0.10</td>\n",
       "      <td>0.10</td>\n",
       "      <td>False</td>\n",
       "      <td>20999</td>\n",
       "    </tr>\n",
       "  </tbody>\n",
       "</table>\n",
       "<p>3000 rows × 9 columns</p>\n",
       "</div>"
      ],
      "text/plain": [
       "        maze_file  generations  valid_only  population_size  parents  \\\n",
       "20005  maze_7.txt          150        True               25     0.01   \n",
       "20006  maze_7.txt          150        True               25     0.01   \n",
       "20007  maze_7.txt          150        True               25     0.01   \n",
       "20008  maze_7.txt          150        True               25     0.01   \n",
       "20009  maze_7.txt          150        True               25     0.01   \n",
       "...           ...          ...         ...              ...      ...   \n",
       "23000  maze_7.txt          150       False              250     0.25   \n",
       "23001  maze_7.txt          150       False              250     0.25   \n",
       "23002  maze_7.txt          150       False              250     0.25   \n",
       "23003  maze_7.txt          150       False              250     0.25   \n",
       "23004  maze_7.txt          150       False              250     0.25   \n",
       "\n",
       "       mutation_probability  elitism  use_custom_functions  run_id  \n",
       "20005                  0.01     0.00                  True   18000  \n",
       "20006                  0.01     0.00                 False   18001  \n",
       "20007                  0.01     0.01                  True   18002  \n",
       "20008                  0.01     0.01                 False   18003  \n",
       "20009                  0.01     0.10                  True   18004  \n",
       "...                     ...      ...                   ...     ...  \n",
       "23000                  0.10     0.00                 False   20995  \n",
       "23001                  0.10     0.01                  True   20996  \n",
       "23002                  0.10     0.01                 False   20997  \n",
       "23003                  0.10     0.10                  True   20998  \n",
       "23004                  0.10     0.10                 False   20999  \n",
       "\n",
       "[3000 rows x 9 columns]"
      ]
     },
     "execution_count": 95,
     "metadata": {},
     "output_type": "execute_result"
    }
   ],
   "source": [
    "runs[runs[\"maze_file\"] == \"maze_7.txt\"]"
   ]
  },
  {
   "cell_type": "code",
   "execution_count": 97,
   "metadata": {},
   "outputs": [
    {
     "data": {
      "text/html": [
       "<div>\n",
       "<style scoped>\n",
       "    .dataframe tbody tr th:only-of-type {\n",
       "        vertical-align: middle;\n",
       "    }\n",
       "\n",
       "    .dataframe tbody tr th {\n",
       "        vertical-align: top;\n",
       "    }\n",
       "\n",
       "    .dataframe thead th {\n",
       "        text-align: right;\n",
       "    }\n",
       "</style>\n",
       "<table border=\"1\" class=\"dataframe\">\n",
       "  <thead>\n",
       "    <tr style=\"text-align: right;\">\n",
       "      <th></th>\n",
       "      <th>run_id</th>\n",
       "      <th>generation</th>\n",
       "      <th>fitness</th>\n",
       "      <th>path</th>\n",
       "    </tr>\n",
       "  </thead>\n",
       "  <tbody>\n",
       "  </tbody>\n",
       "</table>\n",
       "</div>"
      ],
      "text/plain": [
       "Empty DataFrame\n",
       "Columns: [run_id, generation, fitness, path]\n",
       "Index: []"
      ]
     },
     "execution_count": 97,
     "metadata": {},
     "output_type": "execute_result"
    }
   ],
   "source": [
    "gen_scores[gen_scores[\"run_id\"] == 20997]"
   ]
  }
 ],
 "metadata": {
  "kernelspec": {
   "display_name": "Python 3.9.13 ('base')",
   "language": "python",
   "name": "python3"
  },
  "language_info": {
   "codemirror_mode": {
    "name": "ipython",
    "version": 3
   },
   "file_extension": ".py",
   "mimetype": "text/x-python",
   "name": "python",
   "nbconvert_exporter": "python",
   "pygments_lexer": "ipython3",
   "version": "3.9.13"
  },
  "orig_nbformat": 4,
  "vscode": {
   "interpreter": {
    "hash": "7f1651fc764db4ab39fb74bfca515ceb2516abdc2e253ba80310dae2b3790474"
   }
  }
 },
 "nbformat": 4,
 "nbformat_minor": 2
}
